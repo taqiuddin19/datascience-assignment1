{
 "cells": [
  {
   "cell_type": "code",
   "execution_count": 1,
   "metadata": {},
   "outputs": [
    {
     "name": "stdout",
     "output_type": "stream",
     "text": [
      "RAINBOW\n"
     ]
    }
   ],
   "source": [
    "print(\"RAINBOW\")"
   ]
  },
  {
   "cell_type": "code",
   "execution_count": 2,
   "metadata": {},
   "outputs": [
    {
     "name": "stdout",
     "output_type": "stream",
     "text": [
      "LETS UPGRADE\n"
     ]
    }
   ],
   "source": [
    "print(\"LETS UPGRADE\")"
   ]
  },
  {
   "cell_type": "code",
   "execution_count": 1,
   "metadata": {},
   "outputs": [
    {
     "name": "stdout",
     "output_type": "stream",
     "text": [
      "Enter the Cost price:20\n",
      "Enter the Selling price:30\n",
      "Profit\n"
     ]
    }
   ],
   "source": [
    "x = input(\"Enter the Cost price:\")\n",
    "y = input(\"Enter the Selling price:\")\n",
    "if x<y:\n",
    "    print(\"Profit\")\n",
    "elif x>y:\n",
    "    print(\"Loss\")\n",
    "else:\n",
    "    print(\"Neither\")"
   ]
  },
  {
   "cell_type": "code",
   "execution_count": 3,
   "metadata": {},
   "outputs": [
    {
     "name": "stdout",
     "output_type": "stream",
     "text": [
      "Enter the Cost price:20\n",
      "Enter the Selling price:10\n",
      "Loss\n"
     ]
    }
   ],
   "source": [
    "x = input(\"Enter the Cost price:\")\n",
    "y = input(\"Enter the Selling price:\")\n",
    "if x<y:\n",
    "    print(\"Profit\")\n",
    "elif x>y:\n",
    "    print(\"Loss\")\n",
    "else:\n",
    "    print(\"Neither\")"
   ]
  },
  {
   "cell_type": "code",
   "execution_count": 4,
   "metadata": {},
   "outputs": [
    {
     "name": "stdout",
     "output_type": "stream",
     "text": [
      "Enter the Cost price:20\n",
      "Enter the Selling price:20\n",
      "Neither\n"
     ]
    }
   ],
   "source": [
    "x = input(\"Enter the Cost price:\")\n",
    "y = input(\"Enter the Selling price:\")\n",
    "if x<y:\n",
    "    print(\"Profit\")\n",
    "elif x>y:\n",
    "    print(\"Loss\")\n",
    "else:\n",
    "    print(\"Neither\")"
   ]
  },
  {
   "cell_type": "code",
   "execution_count": 5,
   "metadata": {},
   "outputs": [
    {
     "name": "stdout",
     "output_type": "stream",
     "text": [
      "Euros:1\n",
      "Rs: 80\n"
     ]
    }
   ],
   "source": [
    "x=int(input(\"Euros:\"))\n",
    "y=x*80\n",
    "print(\"Rs:\",y)"
   ]
  },
  {
   "cell_type": "code",
   "execution_count": 6,
   "metadata": {},
   "outputs": [
    {
     "name": "stdout",
     "output_type": "stream",
     "text": [
      "Euros:20\n",
      "Rs: 1600\n"
     ]
    }
   ],
   "source": [
    "x=int(input(\"Euros:\"))\n",
    "y=x*80\n",
    "print(\"Rs:\",y)"
   ]
  },
  {
   "cell_type": "code",
   "execution_count": 7,
   "metadata": {},
   "outputs": [
    {
     "name": "stdout",
     "output_type": "stream",
     "text": [
      "Euros:50\n",
      "Rs: 4000\n"
     ]
    }
   ],
   "source": [
    "x=int(input(\"Euros:\"))\n",
    "y=x*80\n",
    "print(\"Rs:\",y)"
   ]
  },
  {
   "cell_type": "code",
   "execution_count": 8,
   "metadata": {},
   "outputs": [
    {
     "name": "stdout",
     "output_type": "stream",
     "text": [
      "Euros:72\n",
      "Rs: 5760\n"
     ]
    }
   ],
   "source": [
    "x=int(input(\"Euros:\"))\n",
    "y=x*80\n",
    "print(\"Rs:\",y)"
   ]
  },
  {
   "cell_type": "code",
   "execution_count": 9,
   "metadata": {},
   "outputs": [
    {
     "name": "stdout",
     "output_type": "stream",
     "text": [
      "Euros:7\n",
      "Rs: 560\n"
     ]
    }
   ],
   "source": [
    "x=int(input(\"Euros:\"))\n",
    "y=x*80\n",
    "print(\"Rs:\",y)"
   ]
  },
  {
   "cell_type": "code",
   "execution_count": null,
   "metadata": {},
   "outputs": [],
   "source": []
  }
 ],
 "metadata": {
  "kernelspec": {
   "display_name": "Python 3",
   "language": "python",
   "name": "python3"
  },
  "language_info": {
   "codemirror_mode": {
    "name": "ipython",
    "version": 3
   },
   "file_extension": ".py",
   "mimetype": "text/x-python",
   "name": "python",
   "nbconvert_exporter": "python",
   "pygments_lexer": "ipython3",
   "version": "3.8.3"
  }
 },
 "nbformat": 4,
 "nbformat_minor": 4
}
